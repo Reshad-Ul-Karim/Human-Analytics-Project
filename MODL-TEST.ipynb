{
 "cells": [
  {
   "cell_type": "code",
   "execution_count": 5,
   "id": "c4bc45c8",
   "metadata": {},
   "outputs": [
    {
     "name": "stdout",
     "output_type": "stream",
     "text": [
      "Requirement already satisfied: opencv-python in /Users/reshadsazid/anaconda3/lib/python3.11/site-packages (4.9.0.80)\n",
      "Requirement already satisfied: numpy in /Users/reshadsazid/anaconda3/lib/python3.11/site-packages (1.24.3)\n",
      "Requirement already satisfied: mediapipe in /Users/reshadsazid/anaconda3/lib/python3.11/site-packages (0.10.9)\n",
      "Requirement already satisfied: absl-py in /Users/reshadsazid/anaconda3/lib/python3.11/site-packages (from mediapipe) (2.0.0)\n",
      "Requirement already satisfied: attrs>=19.1.0 in /Users/reshadsazid/anaconda3/lib/python3.11/site-packages (from mediapipe) (22.1.0)\n",
      "Requirement already satisfied: flatbuffers>=2.0 in /Users/reshadsazid/anaconda3/lib/python3.11/site-packages (from mediapipe) (23.5.26)\n",
      "Requirement already satisfied: matplotlib in /Users/reshadsazid/anaconda3/lib/python3.11/site-packages (from mediapipe) (3.7.2)\n",
      "Requirement already satisfied: opencv-contrib-python in /Users/reshadsazid/anaconda3/lib/python3.11/site-packages (from mediapipe) (4.9.0.80)\n",
      "Requirement already satisfied: protobuf<4,>=3.11 in /Users/reshadsazid/anaconda3/lib/python3.11/site-packages (from mediapipe) (3.20.3)\n",
      "Requirement already satisfied: sounddevice>=0.4.4 in /Users/reshadsazid/anaconda3/lib/python3.11/site-packages (from mediapipe) (0.4.6)\n",
      "Requirement already satisfied: CFFI>=1.0 in /Users/reshadsazid/anaconda3/lib/python3.11/site-packages (from sounddevice>=0.4.4->mediapipe) (1.15.1)\n",
      "Requirement already satisfied: contourpy>=1.0.1 in /Users/reshadsazid/anaconda3/lib/python3.11/site-packages (from matplotlib->mediapipe) (1.0.5)\n",
      "Requirement already satisfied: cycler>=0.10 in /Users/reshadsazid/anaconda3/lib/python3.11/site-packages (from matplotlib->mediapipe) (0.11.0)\n",
      "Requirement already satisfied: fonttools>=4.22.0 in /Users/reshadsazid/anaconda3/lib/python3.11/site-packages (from matplotlib->mediapipe) (4.25.0)\n",
      "Requirement already satisfied: kiwisolver>=1.0.1 in /Users/reshadsazid/anaconda3/lib/python3.11/site-packages (from matplotlib->mediapipe) (1.4.4)\n",
      "Requirement already satisfied: packaging>=20.0 in /Users/reshadsazid/anaconda3/lib/python3.11/site-packages (from matplotlib->mediapipe) (23.1)\n",
      "Requirement already satisfied: pillow>=6.2.0 in /Users/reshadsazid/anaconda3/lib/python3.11/site-packages (from matplotlib->mediapipe) (9.4.0)\n",
      "Requirement already satisfied: pyparsing<3.1,>=2.3.1 in /Users/reshadsazid/anaconda3/lib/python3.11/site-packages (from matplotlib->mediapipe) (3.0.9)\n",
      "Requirement already satisfied: python-dateutil>=2.7 in /Users/reshadsazid/anaconda3/lib/python3.11/site-packages (from matplotlib->mediapipe) (2.8.2)\n",
      "Requirement already satisfied: pycparser in /Users/reshadsazid/anaconda3/lib/python3.11/site-packages (from CFFI>=1.0->sounddevice>=0.4.4->mediapipe) (2.21)\n",
      "Requirement already satisfied: six>=1.5 in /Users/reshadsazid/anaconda3/lib/python3.11/site-packages (from python-dateutil>=2.7->matplotlib->mediapipe) (1.16.0)\n",
      "Note: you may need to restart the kernel to use updated packages.\n"
     ]
    }
   ],
   "source": [
    "pip install opencv-python numpy mediapipe\n"
   ]
  },
  {
   "cell_type": "code",
   "execution_count": null,
   "id": "25e8d68c",
   "metadata": {},
   "outputs": [],
   "source": [
    "import os\n",
    "import cv2\n",
    "import numpy as np\n",
    "\n",
    "# Function to load images from a directory\n",
    "def load_images_from_folder(folder, label):\n",
    "    images = []\n",
    "    labels = []\n",
    "    for filename in os.listdir(folder):\n",
    "        img = cv2.imread(os.path.join(folder, filename))\n",
    "        if img is not None:\n",
    "            img = cv2.cvtColor(img, cv2.COLOR_BGR2RGB)  # Convert to RGB\n",
    "            images.append(img)\n",
    "            labels.append(label)\n",
    "    return images, labels\n",
    "\n",
    "# Load dataset\n",
    "normal_images, normal_labels = load_images_from_folder('dataset/normal', 0)  # 0 for 'normal'\n",
    "stroke_images, stroke_labels = load_images_from_folder('dataset/stroke', 1)  # 1 for 'stroke'\n",
    "\n",
    "# Combine datasets\n",
    "all_images = normal_images + stroke_images\n",
    "all_labels = normal_labels + stroke_labels\n",
    "\n",
    "# Convert to numpy arrays for processing\n",
    "all_images = np.array(all_images)\n",
    "all_labels = np.array(all_labels)"
   ]
  },
  {
   "cell_type": "code",
   "execution_count": null,
   "id": "40c77017",
   "metadata": {},
   "outputs": [],
   "source": [
    "\n",
    "# Function to resize images\n",
    "def resize_images(images, size=(224, 224)):\n",
    "    resized_images = []\n",
    "    for img in images:\n",
    "        img = cv2.resize(img, size)\n",
    "        resized_images.append(img)\n",
    "    return np.array(resized_images)\n",
    "\n",
    "# Resize all images\n",
    "all_images_resized = resize_images(all_images)"
   ]
  },
  {
   "cell_type": "code",
   "execution_count": null,
   "id": "16fba599",
   "metadata": {},
   "outputs": [],
   "source": [
    "from sklearn.model_selection import train_test_split\n",
    "\n",
    "# Split dataset\n",
    "X_train, X_test, y_train, y_test = train_test_split(all_images_resized, all_labels, test_size=0.2, random_state=42)\n"
   ]
  },
  {
   "cell_type": "code",
   "execution_count": null,
   "id": "2b6c7146",
   "metadata": {},
   "outputs": [],
   "source": [
    "\n",
    "face_mesh_results = face_mesh_images.process(sample_img[:,:,::-1])\n",
    "\n",
    "LEFT_EYE_INDEXES = list(set(itertools.chain(*mp_face_mesh.FACEMESH_LEFT_EYE)))\n",
    "RIGHT_EYE_INDEXES = list(set(itertools.chain(*mp_face_mesh.FACEMESH_RIGHT_EYE)))\n",
    "\n",
    "if face_mesh_results.multi_face_landmarks:\n",
    "\n",
    "    for face_no, face_landmarks in enumerate(face_mesh_results.multi_face_landmarks):\n",
    "\n",
    "        print(f'FACE NUMBER: {face_no+1}')\n",
    "        print('-----------------------')\n",
    "\n",
    "        print(f'LEFT EYE LANDMARKS:n')\n",
    "\n",
    "        for LEFT_EYE_INDEX in LEFT_EYE_INDEXES[:2]:\n",
    "\n",
    "            print(face_landmarks.landmark[LEFT_EYE_INDEX])\n",
    "\n",
    "        print(f'RIGHT EYE LANDMARKS:n')\n",
    "\n",
    "        for RIGHT_EYE_INDEX in RIGHT_EYE_INDEXES[:2]:\n",
    "\n",
    "            print(face_landmarks.landmark[RIGHT_EYE_INDEX])\n",
    "     "
   ]
  }
 ],
 "metadata": {
  "kernelspec": {
   "display_name": "Python 3 (ipykernel)",
   "language": "python",
   "name": "python3"
  },
  "language_info": {
   "codemirror_mode": {
    "name": "ipython",
    "version": 3
   },
   "file_extension": ".py",
   "mimetype": "text/x-python",
   "name": "python",
   "nbconvert_exporter": "python",
   "pygments_lexer": "ipython3",
   "version": "3.11.5"
  }
 },
 "nbformat": 4,
 "nbformat_minor": 5
}
